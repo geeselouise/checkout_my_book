{
 "cells": [
  {
   "cell_type": "code",
   "execution_count": 1,
   "id": "104040bc",
   "metadata": {},
   "outputs": [],
   "source": [
    "import pandas as pd\n",
    "from sodapy import Socrata\n",
    "\n",
    "import seaborn as sns\n",
    "import matplotlib.pyplot as plt"
   ]
  },
  {
   "cell_type": "code",
   "execution_count": 2,
   "id": "40538454",
   "metadata": {},
   "outputs": [
    {
     "name": "stderr",
     "output_type": "stream",
     "text": [
      "WARNING:root:Requests made without an app_token will be subject to strict throttling limits.\n"
     ]
    }
   ],
   "source": [
    "client = Socrata(\"data.seattle.gov\", None)"
   ]
  },
  {
   "cell_type": "code",
   "execution_count": 3,
   "id": "bdda703c",
   "metadata": {},
   "outputs": [],
   "source": [
    "results = client.get(\"tmmm-ytt6\", limit=8000000)"
   ]
  },
  {
   "cell_type": "code",
   "execution_count": 4,
   "id": "46fdcd81",
   "metadata": {},
   "outputs": [],
   "source": [
    "results_df = pd.DataFrame.from_records(results)"
   ]
  },
  {
   "cell_type": "code",
   "execution_count": 5,
   "id": "55491281",
   "metadata": {},
   "outputs": [
    {
     "data": {
      "text/plain": [
       "(8000000, 11)"
      ]
     },
     "execution_count": 5,
     "metadata": {},
     "output_type": "execute_result"
    }
   ],
   "source": [
    "results_df.shape"
   ]
  },
  {
   "cell_type": "code",
   "execution_count": 6,
   "id": "479a5895",
   "metadata": {},
   "outputs": [
    {
     "data": {
      "text/plain": [
       "array(['2009', '2017', '2010', '2011', '2012', '2018'], dtype=object)"
      ]
     },
     "execution_count": 6,
     "metadata": {},
     "output_type": "execute_result"
    }
   ],
   "source": [
    "results_df['checkoutyear'].unique()"
   ]
  },
  {
   "cell_type": "code",
   "execution_count": 10,
   "id": "6ea6d443",
   "metadata": {},
   "outputs": [],
   "source": [
    "results_df.to_csv('/home/jupyter/spl_checkouts.csv')"
   ]
  },
  {
   "cell_type": "code",
   "execution_count": null,
   "id": "2fea86f8",
   "metadata": {},
   "outputs": [],
   "source": []
  }
 ],
 "metadata": {
  "environment": {
   "name": "tf2-gpu.2-6.m79",
   "type": "gcloud",
   "uri": "gcr.io/deeplearning-platform-release/tf2-gpu.2-6:m79"
  },
  "kernelspec": {
   "display_name": "Python [conda env:librarian]",
   "language": "python",
   "name": "conda-env-librarian-py"
  },
  "language_info": {
   "codemirror_mode": {
    "name": "ipython",
    "version": 3
   },
   "file_extension": ".py",
   "mimetype": "text/x-python",
   "name": "python",
   "nbconvert_exporter": "python",
   "pygments_lexer": "ipython3",
   "version": "3.9.7"
  }
 },
 "nbformat": 4,
 "nbformat_minor": 5
}
