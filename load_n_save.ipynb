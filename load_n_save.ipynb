{
 "cells": [
  {
   "cell_type": "code",
   "execution_count": null,
   "id": "2fea86f8",
   "metadata": {},
   "outputs": [],
   "source": [
    "import pandas as pd\n",
    "from sodapy import Socrata\n",
    "\n",
    "class checkout_titles:\n",
    "    def __init__(self, limit=1000, datasource=\"data.seattle.gov\", ID=\"tmmm-ytt6\", results_df=None):\n",
    "        '''Default to call the Seattle Public Library Checkouts\n",
    "        dataset, but it can call other databases via socrata.'''\n",
    "        self.limit = limit\n",
    "        self.datasource = datasource\n",
    "        self.ID = ID\n",
    "        self.results_df= results_df\n",
    "    def load_subset(self, limit, query=False):\n",
    "        '''Uses the sodapy Socrata as an API to access the \n",
    "            Seattle Public Library checkouts dataset.'''\n",
    "        client = Socrata(self.datasource, None)\n",
    "        if query is not False:\n",
    "            try:\n",
    "                results = client.get(self.ID, query=query)\n",
    "            except HTTPError:\n",
    "                print('For queries, terms, such as select, groupby, or where,',\n",
    "                      'need to be lowercase. Strings need to be in quotes',\n",
    "                      'e.g. \"EBOOK\" and numbers need to not have quotes.')\n",
    "            self.results_df = pd.DataFrame.from_records(results)\n",
    "        else:\n",
    "            results = client.get(\"tmmm-ytt6\", limit=limit)\n",
    "            self.results_df = pd.DataFrame.from_records(results)\n",
    "        return self.results_df.head()\n",
    "    \n",
    "    def save_subset(self, filepath, update=False):\n",
    "        '''Saves the subset of data loaded from the Seattle Public Library Checkouts dataset as csv.'''\n",
    "        self.results_df.to_csv(filepath)\n",
    "        if update:\n",
    "            self.update_df.to_csv(filepath)\n",
    "        \n",
    "    def update_dataset(self, filepaths=[]):\n",
    "        '''This function concatenates a previous subset or subsets of data into one dataframe \n",
    "        called update_df. The filepaths variable is a list of CSV filepaths that the user wants concatenated.\n",
    "        Each CSV file is then loaded into a pandas dataframe, and those dataframes are then combined on the row.\n",
    "        \n",
    "        Note filepaths must be a list with at least 2 elements for the function to work.'''\n",
    "        \n",
    "        df_list = [pd.read_csv(file) for file in filepaths]\n",
    "        self.update_df = pd.concat(df_list)\n",
    "        return self.update_df.head()\n",
    "            "
   ]
  }
 ],
 "metadata": {
  "environment": {
   "name": "tf2-gpu.2-6.m79",
   "type": "gcloud",
   "uri": "gcr.io/deeplearning-platform-release/tf2-gpu.2-6:m79"
  },
  "kernelspec": {
   "display_name": "Python [conda env:redline] *",
   "language": "python",
   "name": "conda-env-redline-py"
  },
  "language_info": {
   "codemirror_mode": {
    "name": "ipython",
    "version": 3
   },
   "file_extension": ".py",
   "mimetype": "text/x-python",
   "name": "python",
   "nbconvert_exporter": "python",
   "pygments_lexer": "ipython3",
   "version": "3.8.10"
  }
 },
 "nbformat": 4,
 "nbformat_minor": 5
}
