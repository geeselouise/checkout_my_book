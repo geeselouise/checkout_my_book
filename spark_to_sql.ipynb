{
 "cells": [
  {
   "cell_type": "code",
   "execution_count": 1,
   "id": "c40b0e61-acdc-4c9d-8ef0-149b5c1c0134",
   "metadata": {},
   "outputs": [],
   "source": [
    "from pyspark import SparkConf, SparkContext, SQLContext\n",
    "import pyspark"
   ]
  },
  {
   "cell_type": "code",
   "execution_count": 2,
   "id": "b96318b9-cb4b-4ab4-8cfc-e1de6592bce0",
   "metadata": {},
   "outputs": [],
   "source": [
    "#conf = SparkConf().setAppName(\"test\").setMaster(\"local\")\n",
    "#sc = SparkContext(conf=conf)\n",
    "#sc.setSystemProperty(\"hadoop.home.dir\", \"C:/hadoop/bin\")\n",
    "#sqlContext = SQLContext(sc)"
   ]
  },
  {
   "cell_type": "code",
   "execution_count": 3,
   "id": "2b9a0bbe-3631-457a-8a2b-8175c5eb09e7",
   "metadata": {},
   "outputs": [],
   "source": [
    "csv_file = 'C:/Users/louisa/Documents/GitHub/checkout_my_book/Checkouts_by_Title.csv'"
   ]
  },
  {
   "cell_type": "code",
   "execution_count": 4,
   "id": "1ae3c376-8720-4218-9132-eac242b48d1a",
   "metadata": {},
   "outputs": [],
   "source": [
    "#spark = pyspark.sql.SparkSession.builder.getOrCreate()"
   ]
  },
  {
   "cell_type": "code",
   "execution_count": 5,
   "id": "1488df80-3b31-497e-9463-e5c3e2c4aba7",
   "metadata": {},
   "outputs": [],
   "source": [
    "appName = \"PySpark SQL Server Example - via JDBC\"\n",
    "master = \"local\"\n",
    "conf = SparkConf() \\\n",
    "    .setAppName(appName) \\\n",
    "    .setMaster(master)    #.set(\"spark.jars\",\"C:/Program Files/JDBC/sqlite-jdbc-3.36.0.3.jar\")\n",
    "sc = SparkContext(conf=conf)\n",
    "sqlContext = SQLContext(sc)\n",
    "spark = sqlContext.sparkSession"
   ]
  },
  {
   "cell_type": "code",
   "execution_count": 6,
   "id": "37941972-a29c-489f-8db3-cef8ce83479b",
   "metadata": {},
   "outputs": [],
   "source": [
    "chkouts = spark.read.csv(csv_file, header='true', inferSchema='true', sep=',')"
   ]
  },
  {
   "cell_type": "code",
   "execution_count": 7,
   "id": "130cb8a0-1ee4-4e99-876b-fe0f5ecebda7",
   "metadata": {},
   "outputs": [],
   "source": [
    "subset = chkouts.sample(fraction=0.1)"
   ]
  },
  {
   "cell_type": "code",
   "execution_count": 15,
   "id": "94e9474a-c28f-4437-a80c-a577e75bc6e5",
   "metadata": {
    "tags": []
   },
   "outputs": [
    {
     "name": "stdout",
     "output_type": "stream",
     "text": [
      "+----------+------------+------------+------------+-------------+---------+-----+-------+--------+---------+---------------+\n",
      "|UsageClass|CheckoutType|MaterialType|CheckoutYear|CheckoutMonth|Checkouts|Title|Creator|Subjects|Publisher|PublicationYear|\n",
      "+----------+------------+------------+------------+-------------+---------+-----+-------+--------+---------+---------------+\n",
      "+----------+------------+------------+------------+-------------+---------+-----+-------+--------+---------+---------------+\n",
      "\n"
     ]
    }
   ],
   "source": [
    "database = \"SeattleLibraryCheckouts\"\n",
    "src_table = \"subset10\"\n",
    "# org.sqlite.JDBC\n",
    "jdbcUrl = \"jdbc:sqlite:C:/Users/louisa/Documents/GitHub/checkout_my_book/SeattleLibraryCheckouts.db\"\n",
    "#jdbcDriver = \"org.apache.spark.driver.extraC,\"\n",
    "# Create a data frame by reading data from SQL Server via JDBC\n",
    "jdbcDF = spark.read.format(\"jdbc\") \\\n",
    "    .option(\"url\", jdbcUrl) \\\n",
    "    .option(\"dbtable\", \"subset10\") \\\n",
    "    .load()\n",
    "jdbcDF.show()\n"
   ]
  },
  {
   "cell_type": "code",
   "execution_count": 17,
   "id": "658f77e7-ce68-49d9-8558-c07bb3417c77",
   "metadata": {},
   "outputs": [],
   "source": [
    "# We can also save the data frame to the database via JBBC too.\n",
    "\n",
    "subset.write.format(\"jdbc\") \\\n",
    "  .mode(\"overwrite\") \\\n",
    "  .option(\"url\", jdbcUrl) \\\n",
    "  .option(\"dbtable\", \"subset10\") \\\n",
    "  .save()"
   ]
  }
 ],
 "metadata": {
  "kernelspec": {
   "display_name": "Python [conda env:metis]",
   "language": "python",
   "name": "conda-env-metis-py"
  },
  "language_info": {
   "codemirror_mode": {
    "name": "ipython",
    "version": 3
   },
   "file_extension": ".py",
   "mimetype": "text/x-python",
   "name": "python",
   "nbconvert_exporter": "python",
   "pygments_lexer": "ipython3",
   "version": "3.9.7"
  }
 },
 "nbformat": 4,
 "nbformat_minor": 5
}
