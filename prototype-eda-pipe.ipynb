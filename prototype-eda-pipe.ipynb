{
 "cells": [
  {
   "cell_type": "code",
   "execution_count": 1,
   "id": "7be2c4cb-f995-45c5-aa41-56a9d30ee6c9",
   "metadata": {},
   "outputs": [],
   "source": [
    "import pandas as pd\n",
    "from sodapy import Socrata"
   ]
  },
  {
   "cell_type": "code",
   "execution_count": 2,
   "id": "c40339e9-16b9-4b98-b81f-ce3addaf447e",
   "metadata": {},
   "outputs": [
    {
     "name": "stderr",
     "output_type": "stream",
     "text": [
      "WARNING:root:Requests made without an app_token will be subject to strict throttling limits.\n"
     ]
    }
   ],
   "source": [
    "client = Socrata(\"data.seattle.gov\", None)"
   ]
  },
  {
   "cell_type": "code",
   "execution_count": 41,
   "id": "82ac77a0-1e45-4f35-a82d-9fa1d146a310",
   "metadata": {},
   "outputs": [],
   "source": [
    "results = client.get(\"tmmm-ytt6\", query='select * where materialtype =\"BOOK\"')"
   ]
  },
  {
   "cell_type": "code",
   "execution_count": 22,
   "id": "5593c7fc-cf53-4b27-8708-59e1134c0268",
   "metadata": {},
   "outputs": [],
   "source": [
    "results_df = pd.DataFrame.from_records(results)"
   ]
  },
  {
   "cell_type": "code",
   "execution_count": 23,
   "id": "37b7a381-9240-4f04-a151-e3c838d8368e",
   "metadata": {},
   "outputs": [
    {
     "data": {
      "text/html": [
       "<div>\n",
       "<style scoped>\n",
       "    .dataframe tbody tr th:only-of-type {\n",
       "        vertical-align: middle;\n",
       "    }\n",
       "\n",
       "    .dataframe tbody tr th {\n",
       "        vertical-align: top;\n",
       "    }\n",
       "\n",
       "    .dataframe thead th {\n",
       "        text-align: right;\n",
       "    }\n",
       "</style>\n",
       "<table border=\"1\" class=\"dataframe\">\n",
       "  <thead>\n",
       "    <tr style=\"text-align: right;\">\n",
       "      <th></th>\n",
       "      <th>usageclass</th>\n",
       "      <th>checkouttype</th>\n",
       "      <th>materialtype</th>\n",
       "      <th>checkoutyear</th>\n",
       "      <th>checkoutmonth</th>\n",
       "      <th>checkouts</th>\n",
       "      <th>title</th>\n",
       "      <th>creator</th>\n",
       "      <th>subjects</th>\n",
       "      <th>publisher</th>\n",
       "      <th>publicationyear</th>\n",
       "    </tr>\n",
       "  </thead>\n",
       "  <tbody>\n",
       "    <tr>\n",
       "      <th>0</th>\n",
       "      <td>Digital</td>\n",
       "      <td>OverDrive</td>\n",
       "      <td>EBOOK</td>\n",
       "      <td>2017</td>\n",
       "      <td>8</td>\n",
       "      <td>3</td>\n",
       "      <td>Culdesac: War with No Name Series, Book 1.5</td>\n",
       "      <td>Robert Repino</td>\n",
       "      <td>Fantasy, Fiction, Science Fiction</td>\n",
       "      <td>Random House, Inc.</td>\n",
       "      <td>2016</td>\n",
       "    </tr>\n",
       "    <tr>\n",
       "      <th>1</th>\n",
       "      <td>Digital</td>\n",
       "      <td>OverDrive</td>\n",
       "      <td>EBOOK</td>\n",
       "      <td>2017</td>\n",
       "      <td>8</td>\n",
       "      <td>13</td>\n",
       "      <td>Among Others</td>\n",
       "      <td>Jo Walton</td>\n",
       "      <td>Fiction, Science Fiction</td>\n",
       "      <td>Hachette Livre UK</td>\n",
       "      <td>2012</td>\n",
       "    </tr>\n",
       "    <tr>\n",
       "      <th>2</th>\n",
       "      <td>Physical</td>\n",
       "      <td>Horizon</td>\n",
       "      <td>BOOK</td>\n",
       "      <td>2017</td>\n",
       "      <td>8</td>\n",
       "      <td>1</td>\n",
       "      <td>The divine comedy / Dante Alighieri ; translat...</td>\n",
       "      <td>Dante Alighieri, 1265-1321</td>\n",
       "      <td>NaN</td>\n",
       "      <td>Norton,</td>\n",
       "      <td>c1977.</td>\n",
       "    </tr>\n",
       "    <tr>\n",
       "      <th>3</th>\n",
       "      <td>Digital</td>\n",
       "      <td>Hoopla</td>\n",
       "      <td>MOVIE</td>\n",
       "      <td>2017</td>\n",
       "      <td>8</td>\n",
       "      <td>1</td>\n",
       "      <td>Against The Grain</td>\n",
       "      <td>NaN</td>\n",
       "      <td>Documentary</td>\n",
       "      <td>Against the Grain Productions, LLC</td>\n",
       "      <td>NaN</td>\n",
       "    </tr>\n",
       "    <tr>\n",
       "      <th>4</th>\n",
       "      <td>Physical</td>\n",
       "      <td>Horizon</td>\n",
       "      <td>BOOK</td>\n",
       "      <td>2017</td>\n",
       "      <td>8</td>\n",
       "      <td>23</td>\n",
       "      <td>Biscuit feeds the pets / story by Alyssa Satin...</td>\n",
       "      <td>Capucilli, Alyssa Satin, 1957-</td>\n",
       "      <td>Pet shops Juvenile fiction, Dogs Juvenile fict...</td>\n",
       "      <td>Harper,</td>\n",
       "      <td>[2016]</td>\n",
       "    </tr>\n",
       "  </tbody>\n",
       "</table>\n",
       "</div>"
      ],
      "text/plain": [
       "  usageclass checkouttype materialtype checkoutyear checkoutmonth checkouts  \\\n",
       "0    Digital    OverDrive        EBOOK         2017             8         3   \n",
       "1    Digital    OverDrive        EBOOK         2017             8        13   \n",
       "2   Physical      Horizon         BOOK         2017             8         1   \n",
       "3    Digital       Hoopla        MOVIE         2017             8         1   \n",
       "4   Physical      Horizon         BOOK         2017             8        23   \n",
       "\n",
       "                                               title  \\\n",
       "0        Culdesac: War with No Name Series, Book 1.5   \n",
       "1                                       Among Others   \n",
       "2  The divine comedy / Dante Alighieri ; translat...   \n",
       "3                                  Against The Grain   \n",
       "4  Biscuit feeds the pets / story by Alyssa Satin...   \n",
       "\n",
       "                          creator  \\\n",
       "0                   Robert Repino   \n",
       "1                       Jo Walton   \n",
       "2      Dante Alighieri, 1265-1321   \n",
       "3                             NaN   \n",
       "4  Capucilli, Alyssa Satin, 1957-   \n",
       "\n",
       "                                            subjects  \\\n",
       "0                  Fantasy, Fiction, Science Fiction   \n",
       "1                           Fiction, Science Fiction   \n",
       "2                                                NaN   \n",
       "3                                        Documentary   \n",
       "4  Pet shops Juvenile fiction, Dogs Juvenile fict...   \n",
       "\n",
       "                            publisher publicationyear  \n",
       "0                  Random House, Inc.            2016  \n",
       "1                   Hachette Livre UK            2012  \n",
       "2                             Norton,          c1977.  \n",
       "3  Against the Grain Productions, LLC             NaN  \n",
       "4                             Harper,          [2016]  "
      ]
     },
     "execution_count": 23,
     "metadata": {},
     "output_type": "execute_result"
    }
   ],
   "source": [
    "results_df.head()"
   ]
  },
  {
   "cell_type": "code",
   "execution_count": 24,
   "id": "79fc66ed-37f3-4710-a913-cfd6cd9de71b",
   "metadata": {},
   "outputs": [
    {
     "data": {
      "text/plain": [
       "(1000, 11)"
      ]
     },
     "execution_count": 24,
     "metadata": {},
     "output_type": "execute_result"
    }
   ],
   "source": [
    "results_df.shape"
   ]
  },
  {
   "cell_type": "code",
   "execution_count": 37,
   "id": "2eebdc4f-ad7f-4029-8abe-57b2e47e1afd",
   "metadata": {},
   "outputs": [
    {
     "data": {
      "text/plain": [
       "array(['EBOOK', 'BOOK', 'MOVIE', 'SONG', 'TELEVISION', 'MAGAZINE',\n",
       "       'MUSIC', 'COMIC', 'AUDIOBOOK', 'SOUNDDISC', 'VIDEODISC', 'VISUAL',\n",
       "       'VIDEOCASS', 'VIDEO', 'ER, SOUNDDISC', 'REGPRINT'], dtype=object)"
      ]
     },
     "execution_count": 37,
     "metadata": {},
     "output_type": "execute_result"
    }
   ],
   "source": [
    "results_df['materialtype'].unique()"
   ]
  },
  {
   "cell_type": "code",
   "execution_count": 7,
   "id": "0e64eab5-1816-4165-bfa4-66588845b4f6",
   "metadata": {},
   "outputs": [],
   "source": [
    "import seaborn as sns\n",
    "import matplotlib.pyplot as plt"
   ]
  },
  {
   "cell_type": "code",
   "execution_count": 8,
   "id": "e351658d-e4ea-4f49-b560-cdb6ec37951e",
   "metadata": {},
   "outputs": [
    {
     "data": {
      "image/png": "[encoded data removed]",
      "text/plain": [
       "<Figure size 1440x1440 with 1 Axes>"
      ]
     },
     "metadata": {
      "needs_background": "light"
     },
     "output_type": "display_data"
    }
   ],
   "source": [
    "plt.figure(figsize=(20,20))\n",
    "#plt.xticks(list(range(1,31)))\n",
    "plt.xlabel('Checkout Rate per Month', fontsize = 16, labelpad= 0.05)\n",
    "#plt.xticks(ticks=[range(1,1,20)])\n",
    "plt.ylabel('Count of Books with that Chekout Rate per Month', fontsize = 16)\n",
    "plt.title('Numer of times the Book was Checkedout each Month', fontsize = 24)\n",
    "sns.histplot(x=results_df['checkouts']);\n",
    "# Tweak spacing to prevent clipping of ylabel\n"
   ]
  },
  {
   "cell_type": "code",
   "execution_count": null,
   "id": "be053176-e503-4c71-9a28-768ecd95e6a8",
   "metadata": {},
   "outputs": [],
   "source": []
  }
 ],
 "metadata": {
  "kernelspec": {
   "display_name": "Python [conda env:redline] *",
   "language": "python",
   "name": "conda-env-redline-py"
  },
  "language_info": {
   "codemirror_mode": {
    "name": "ipython",
    "version": 3
   },
   "file_extension": ".py",
   "mimetype": "text/x-python",
   "name": "python",
   "nbconvert_exporter": "python",
   "pygments_lexer": "ipython3",
   "version": "3.8.10"
  }
 },
 "nbformat": 4,
 "nbformat_minor": 5
}
