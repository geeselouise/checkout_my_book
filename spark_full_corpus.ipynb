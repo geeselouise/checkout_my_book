{
 "cells": [
  {
   "cell_type": "code",
   "execution_count": 16,
   "id": "1c7620e7-8cb8-44f6-920f-6ed193f14753",
   "metadata": {},
   "outputs": [],
   "source": [
    "import pyspark\n",
    "import os\n",
    "from pyspark.sql.functions import concat_ws\n",
    "\n",
    "os.environ['PYSPARK_PYTHON'] = '/usr/bin/python3'\n",
    "os.environ['PYSPARK_DRIVER_PYTHON'] = '/usr/bin/python3'"
   ]
  },
  {
   "cell_type": "code",
   "execution_count": 17,
   "id": "a59ff20a-abac-4e50-b2d4-acb33e6e9f83",
   "metadata": {},
   "outputs": [],
   "source": [
    "spark = pyspark.sql.SparkSession.builder.getOrCreate()"
   ]
  },
  {
   "cell_type": "code",
   "execution_count": 18,
   "id": "c3f95165-3bd9-4ab0-9477-c6f92f02bd6a",
   "metadata": {},
   "outputs": [],
   "source": [
    "chkouts = spark.read.csv('C:/Users/louisa/Documents/GitHub/checkout_my_book/Checkouts_by_Title.csv', header='true', inferSchema='true', sep=',')"
   ]
  },
  {
   "cell_type": "code",
   "execution_count": 4,
   "id": "9c2b2489-2a70-4359-9118-1aaab60f5251",
   "metadata": {},
   "outputs": [
    {
     "name": "stdout",
     "output_type": "stream",
     "text": [
      "root\n",
      " |-- UsageClass: string (nullable = true)\n",
      " |-- CheckoutType: string (nullable = true)\n",
      " |-- MaterialType: string (nullable = true)\n",
      " |-- CheckoutYear: integer (nullable = true)\n",
      " |-- CheckoutMonth: integer (nullable = true)\n",
      " |-- Checkouts: integer (nullable = true)\n",
      " |-- Title: string (nullable = true)\n",
      " |-- Creator: string (nullable = true)\n",
      " |-- Subjects: string (nullable = true)\n",
      " |-- Publisher: string (nullable = true)\n",
      " |-- PublicationYear: string (nullable = true)\n",
      "\n"
     ]
    }
   ],
   "source": [
    "chkouts.printSchema()"
   ]
  },
  {
   "cell_type": "code",
   "execution_count": 5,
   "id": "357ba481-84da-4646-b5a3-1039da8e0190",
   "metadata": {},
   "outputs": [],
   "source": [
    "m_yr = chkouts.select(concat_ws('-', chkouts.CheckoutMonth, chkouts.CheckoutYear).alias('CheckoutMonthYear'), 'Title')"
   ]
  },
  {
   "cell_type": "code",
   "execution_count": 6,
   "id": "ded33522-c5b5-409d-9d0f-fb817ee92908",
   "metadata": {},
   "outputs": [
    {
     "name": "stdout",
     "output_type": "stream",
     "text": [
      "+-----------------+--------------------+\n",
      "|CheckoutMonthYear|               Title|\n",
      "+-----------------+--------------------+\n",
      "|           7-2009|Pigs at the troug...|\n",
      "|           7-2009|Craft of cooking ...|\n",
      "|           7-2009|The life and time...|\n",
      "|           7-2009|Funk box [sound r...|\n",
      "|           7-2009|          Antarctica|\n",
      "|           7-2009|Beef : and other ...|\n",
      "|           7-2009|         Nice people|\n",
      "|           7-2009|art and craft of ...|\n",
      "|           7-2009|The passover plot...|\n",
      "|           7-2009|Say yes / Audrey ...|\n",
      "|           7-2009|The world atlas o...|\n",
      "|           7-2009|Math to the max 1...|\n",
      "|           7-2009|You can build wiring|\n",
      "|           7-2009|Ferdydurke / Wito...|\n",
      "|           7-2009|Best places San F...|\n",
      "|           7-2009|          Auto focus|\n",
      "|           7-2009|Wooden ship build...|\n",
      "|           7-2009|simple art of per...|\n",
      "|           7-2009|Les choses : une ...|\n",
      "|           7-2009|1918 : a very Bri...|\n",
      "+-----------------+--------------------+\n",
      "only showing top 20 rows\n",
      "\n"
     ]
    }
   ],
   "source": [
    "m_yr.show()"
   ]
  },
  {
   "cell_type": "code",
   "execution_count": 7,
   "id": "c0946ae4-bc09-4f21-b77f-b1183931fddd",
   "metadata": {},
   "outputs": [],
   "source": [
    "my_chkouts = chkouts.join(m_yr, chkouts.Title == m_yr.Title, 'outer')"
   ]
  },
  {
   "cell_type": "code",
   "execution_count": 8,
   "id": "a1b50d8f-e362-4526-b903-3c2d68b2e2c6",
   "metadata": {},
   "outputs": [
    {
     "name": "stdout",
     "output_type": "stream",
     "text": [
      "+----------+------------+------------+------------+-------------+---------+--------------------+--------------------+--------------------+--------------------+---------------+-----------------+--------------------+\n",
      "|UsageClass|CheckoutType|MaterialType|CheckoutYear|CheckoutMonth|Checkouts|               Title|             Creator|            Subjects|           Publisher|PublicationYear|CheckoutMonthYear|               Title|\n",
      "+----------+------------+------------+------------+-------------+---------+--------------------+--------------------+--------------------+--------------------+---------------+-----------------+--------------------+\n",
      "|   Digital|     Freegal|        SONG|        2016|           11|        1|      \"\"\"LaY Furstin| laY noch einen S...| du Furbild groYe...|Ton Koopman,Johan...|           null|          11-2016|      \"\"\"LaY Furstin|\n",
      "|   Digital|     Freegal|        SONG|        2016|           11|        1|      \"\"\"LaY Furstin| laY noch einen S...| du Furbild groYe...|Ton Koopman,Johan...|           null|          11-2016|      \"\"\"LaY Furstin|\n",
      "|   Digital|     Freegal|        SONG|        2016|           11|        1|      \"\"\"LaY Furstin| laY noch einen S...| du Furbild groYe...|Ton Koopman,Johan...|           null|          11-2016|      \"\"\"LaY Furstin|\n",
      "|   Digital|     Freegal|        SONG|        2016|           11|        1|      \"\"\"LaY Furstin| laY noch einen S...| du Furbild groYe...|Ton Koopman,Johan...|           null|          11-2016|      \"\"\"LaY Furstin|\n",
      "|   Digital|     Freegal|        SONG|        2016|           11|        1|      \"\"\"LaY Furstin| laY noch einen S...|Ton Koopman,Johan...|                null|           null|          11-2016|      \"\"\"LaY Furstin|\n",
      "|   Digital|     Freegal|        SONG|        2016|           11|        1|      \"\"\"LaY Furstin| laY noch einen S...|Ton Koopman,Johan...|                null|           null|          11-2016|      \"\"\"LaY Furstin|\n",
      "|   Digital|     Freegal|        SONG|        2016|           11|        1|      \"\"\"LaY Furstin| laY noch einen S...|Ton Koopman,Johan...|                null|           null|          11-2016|      \"\"\"LaY Furstin|\n",
      "|   Digital|     Freegal|        SONG|        2016|           11|        1|      \"\"\"LaY Furstin| laY noch einen S...|Ton Koopman,Johan...|                null|           null|          11-2016|      \"\"\"LaY Furstin|\n",
      "|   Digital|     Freegal|        SONG|        2016|           11|        1|      \"\"\"LaY Furstin| laY noch einen S...|Ton Koopman,Johan...|                null|           null|          11-2016|      \"\"\"LaY Furstin|\n",
      "|   Digital|     Freegal|        SONG|        2016|           11|        1|      \"\"\"LaY Furstin| laY noch einen S...|Ton Koopman,Johan...|                null|           null|          11-2016|      \"\"\"LaY Furstin|\n",
      "|   Digital|     Freegal|        SONG|        2016|           11|        1|      \"\"\"LaY Furstin| laY noch einen S...|Ton Koopman,Johan...|                null|           null|          11-2016|      \"\"\"LaY Furstin|\n",
      "|   Digital|     Freegal|        SONG|        2016|           11|        1|      \"\"\"LaY Furstin| laY noch einen S...|Ton Koopman,Johan...|                null|           null|          11-2016|      \"\"\"LaY Furstin|\n",
      "|   Digital|     Freegal|        SONG|        2016|           11|        1|      \"\"\"LaY Furstin| laY noch einen S...|Ton Koopman,Johan...|                null|           null|          11-2016|      \"\"\"LaY Furstin|\n",
      "|   Digital|     Freegal|        SONG|        2016|           11|        1|      \"\"\"LaY Furstin| laY noch einen S...|Ton Koopman,Johan...|                null|           null|          11-2016|      \"\"\"LaY Furstin|\n",
      "|   Digital|     Freegal|        SONG|        2016|           11|        1|      \"\"\"LaY Furstin| laY noch einen S...|Ton Koopman,Johan...|                null|           null|          11-2016|      \"\"\"LaY Furstin|\n",
      "|   Digital|     Freegal|        SONG|        2016|           11|        1|      \"\"\"LaY Furstin| laY noch einen S...|Ton Koopman,Johan...|                null|           null|          11-2016|      \"\"\"LaY Furstin|\n",
      "|   Digital|     Freegal|        SONG|        2014|           10|        1|\"\"\"Tell Me When\"\"...|    Brian Sutherland|                null|                null|           null|          10-2014|\"\"\"Tell Me When\"\"...|\n",
      "|  Physical|     Horizon|        BOOK|        2005|            9|        1|\"\"\"Windsor Farmes...| together with th...|Stoughton, John A...|Edwards Timothy 1...| Clark & Smith,|           9-2005|\"\"\"Windsor Farmes...|\n",
      "|   Digital|   OverDrive|       MUSIC|        2009|            8|        1|    \"12\"\" Anthology\"|        Skinny Puppy|Electronica, Musi...|Nettwerk Music Group|           2008|           8-2009|    \"12\"\" Anthology\"|\n",
      "|   Digital|   OverDrive|       MUSIC|        2009|            8|        1|    \"12\"\" Anthology\"|        Skinny Puppy|Electronica, Musi...|Nettwerk Music Group|           2008|           4-2010|    \"12\"\" Anthology\"|\n",
      "+----------+------------+------------+------------+-------------+---------+--------------------+--------------------+--------------------+--------------------+---------------+-----------------+--------------------+\n",
      "only showing top 20 rows\n",
      "\n"
     ]
    }
   ],
   "source": [
    "my_chkouts.show()"
   ]
  },
  {
   "cell_type": "code",
   "execution_count": 9,
   "id": "c5ec0f73-fc03-4885-bf32-80458fe55ae7",
   "metadata": {},
   "outputs": [
    {
     "name": "stdout",
     "output_type": "stream",
     "text": [
      "+-----------------+\n",
      "|CheckoutMonthYear|\n",
      "+-----------------+\n",
      "|          11-2016|\n",
      "|          11-2016|\n",
      "|          11-2016|\n",
      "|          11-2016|\n",
      "|          11-2016|\n",
      "+-----------------+\n",
      "only showing top 5 rows\n",
      "\n"
     ]
    }
   ],
   "source": [
    "my_chkouts.select('CheckoutMonthYear').show(5)"
   ]
  },
  {
   "cell_type": "code",
   "execution_count": 10,
   "id": "ec993618-fa96-4958-890a-d56eefb9e9dc",
   "metadata": {},
   "outputs": [],
   "source": [
    "#df.write.csv('mycsv.csv')\n",
    "approxSample = data.sampleByKey(False, fractions)"
   ]
  },
  {
   "cell_type": "code",
   "execution_count": 11,
   "id": "26fb643b-e053-43fb-8b60-2aca57a1181a",
   "metadata": {},
   "outputs": [
    {
     "name": "stdout",
     "output_type": "stream",
     "text": [
      "+-----------------+--------+\n",
      "|CheckoutMonthYear|   count|\n",
      "+-----------------+--------+\n",
      "|           1-2006|81417978|\n",
      "|           1-2007|78150891|\n",
      "|           1-2008|78430227|\n",
      "|           1-2009|77657494|\n",
      "|           1-2010|66592111|\n",
      "|           1-2011|56985856|\n",
      "|           1-2012|45575466|\n",
      "|           1-2013|41122831|\n",
      "|           1-2014|29441120|\n",
      "|           1-2015|23046862|\n",
      "|           1-2016|16807241|\n",
      "|           1-2017|14940092|\n",
      "|           1-2018|13183602|\n",
      "|           1-2019|12211162|\n",
      "|           1-2020|11335394|\n",
      "|           1-2021| 8541264|\n",
      "|          10-2005|83370151|\n",
      "|          10-2006|77187801|\n",
      "|          10-2007|76334082|\n",
      "|          10-2008|75295282|\n",
      "+-----------------+--------+\n",
      "only showing top 20 rows\n",
      "\n"
     ]
    }
   ],
   "source": [
    "strata = my_chkouts.groupBy('CheckoutMonthYear').count().orderBy('CheckoutMonthYear')\n",
    "strata.show()"
   ]
  },
  {
   "cell_type": "code",
   "execution_count": 14,
   "id": "a5a9f974-0a7d-46f7-a528-50fa7a1f9e2a",
   "metadata": {},
   "outputs": [
    {
     "ename": "AnalysisException",
     "evalue": "path file:/C:/Users/louisa/Documents/GitHub/checkout_my_book/chkouts_strata already exists.",
     "output_type": "error",
     "traceback": [
      "\u001b[1;31m---------------------------------------------------------------------------\u001b[0m",
      "\u001b[1;31mAnalysisException\u001b[0m                         Traceback (most recent call last)",
      "\u001b[1;32m~\\AppData\\Local\\Temp/ipykernel_19780/1325812241.py\u001b[0m in \u001b[0;36m<module>\u001b[1;34m\u001b[0m\n\u001b[1;32m----> 1\u001b[1;33m \u001b[0mstrata\u001b[0m\u001b[1;33m.\u001b[0m\u001b[0mwrite\u001b[0m\u001b[1;33m.\u001b[0m\u001b[0mcsv\u001b[0m\u001b[1;33m(\u001b[0m\u001b[1;34m'chkouts_strata'\u001b[0m\u001b[1;33m)\u001b[0m\u001b[1;33m\u001b[0m\u001b[1;33m\u001b[0m\u001b[0m\n\u001b[0m",
      "\u001b[1;32m~\\anaconda3\\envs\\metis\\lib\\site-packages\\pyspark\\sql\\readwriter.py\u001b[0m in \u001b[0;36mcsv\u001b[1;34m(self, path, mode, compression, sep, quote, escape, header, nullValue, escapeQuotes, quoteAll, dateFormat, timestampFormat, ignoreLeadingWhiteSpace, ignoreTrailingWhiteSpace, charToEscapeQuoteEscaping, encoding, emptyValue, lineSep)\u001b[0m\n\u001b[0;32m   1370\u001b[0m                        \u001b[0mcharToEscapeQuoteEscaping\u001b[0m\u001b[1;33m=\u001b[0m\u001b[0mcharToEscapeQuoteEscaping\u001b[0m\u001b[1;33m,\u001b[0m\u001b[1;33m\u001b[0m\u001b[1;33m\u001b[0m\u001b[0m\n\u001b[0;32m   1371\u001b[0m                        encoding=encoding, emptyValue=emptyValue, lineSep=lineSep)\n\u001b[1;32m-> 1372\u001b[1;33m         \u001b[0mself\u001b[0m\u001b[1;33m.\u001b[0m\u001b[0m_jwrite\u001b[0m\u001b[1;33m.\u001b[0m\u001b[0mcsv\u001b[0m\u001b[1;33m(\u001b[0m\u001b[0mpath\u001b[0m\u001b[1;33m)\u001b[0m\u001b[1;33m\u001b[0m\u001b[1;33m\u001b[0m\u001b[0m\n\u001b[0m\u001b[0;32m   1373\u001b[0m \u001b[1;33m\u001b[0m\u001b[0m\n\u001b[0;32m   1374\u001b[0m     \u001b[1;32mdef\u001b[0m \u001b[0morc\u001b[0m\u001b[1;33m(\u001b[0m\u001b[0mself\u001b[0m\u001b[1;33m,\u001b[0m \u001b[0mpath\u001b[0m\u001b[1;33m,\u001b[0m \u001b[0mmode\u001b[0m\u001b[1;33m=\u001b[0m\u001b[1;32mNone\u001b[0m\u001b[1;33m,\u001b[0m \u001b[0mpartitionBy\u001b[0m\u001b[1;33m=\u001b[0m\u001b[1;32mNone\u001b[0m\u001b[1;33m,\u001b[0m \u001b[0mcompression\u001b[0m\u001b[1;33m=\u001b[0m\u001b[1;32mNone\u001b[0m\u001b[1;33m)\u001b[0m\u001b[1;33m:\u001b[0m\u001b[1;33m\u001b[0m\u001b[1;33m\u001b[0m\u001b[0m\n",
      "\u001b[1;32m~\\anaconda3\\envs\\metis\\lib\\site-packages\\py4j\\java_gateway.py\u001b[0m in \u001b[0;36m__call__\u001b[1;34m(self, *args)\u001b[0m\n\u001b[0;32m   1302\u001b[0m \u001b[1;33m\u001b[0m\u001b[0m\n\u001b[0;32m   1303\u001b[0m         \u001b[0manswer\u001b[0m \u001b[1;33m=\u001b[0m \u001b[0mself\u001b[0m\u001b[1;33m.\u001b[0m\u001b[0mgateway_client\u001b[0m\u001b[1;33m.\u001b[0m\u001b[0msend_command\u001b[0m\u001b[1;33m(\u001b[0m\u001b[0mcommand\u001b[0m\u001b[1;33m)\u001b[0m\u001b[1;33m\u001b[0m\u001b[1;33m\u001b[0m\u001b[0m\n\u001b[1;32m-> 1304\u001b[1;33m         return_value = get_return_value(\n\u001b[0m\u001b[0;32m   1305\u001b[0m             answer, self.gateway_client, self.target_id, self.name)\n\u001b[0;32m   1306\u001b[0m \u001b[1;33m\u001b[0m\u001b[0m\n",
      "\u001b[1;32m~\\anaconda3\\envs\\metis\\lib\\site-packages\\pyspark\\sql\\utils.py\u001b[0m in \u001b[0;36mdeco\u001b[1;34m(*a, **kw)\u001b[0m\n\u001b[0;32m    115\u001b[0m                 \u001b[1;31m# Hide where the exception came from that shows a non-Pythonic\u001b[0m\u001b[1;33m\u001b[0m\u001b[1;33m\u001b[0m\u001b[0m\n\u001b[0;32m    116\u001b[0m                 \u001b[1;31m# JVM exception message.\u001b[0m\u001b[1;33m\u001b[0m\u001b[1;33m\u001b[0m\u001b[0m\n\u001b[1;32m--> 117\u001b[1;33m                 \u001b[1;32mraise\u001b[0m \u001b[0mconverted\u001b[0m \u001b[1;32mfrom\u001b[0m \u001b[1;32mNone\u001b[0m\u001b[1;33m\u001b[0m\u001b[1;33m\u001b[0m\u001b[0m\n\u001b[0m\u001b[0;32m    118\u001b[0m             \u001b[1;32melse\u001b[0m\u001b[1;33m:\u001b[0m\u001b[1;33m\u001b[0m\u001b[1;33m\u001b[0m\u001b[0m\n\u001b[0;32m    119\u001b[0m                 \u001b[1;32mraise\u001b[0m\u001b[1;33m\u001b[0m\u001b[1;33m\u001b[0m\u001b[0m\n",
      "\u001b[1;31mAnalysisException\u001b[0m: path file:/C:/Users/louisa/Documents/GitHub/checkout_my_book/chkouts_strata already exists."
     ]
    }
   ],
   "source": [
    "strata.write.csv('chkouts_strata.')"
   ]
  },
  {
   "cell_type": "code",
   "execution_count": 15,
   "id": "852af4d1-136f-4e61-b4d9-f04d49fa7576",
   "metadata": {},
   "outputs": [
    {
     "name": "stdout",
     "output_type": "stream",
     "text": [
      "Collecting sodapy\n",
      "  Using cached sodapy-2.1.0-py2.py3-none-any.whl (14 kB)\n",
      "Requirement already satisfied: requests>=2.20.0 in c:\\users\\louisa\\anaconda3\\envs\\metis\\lib\\site-packages (from sodapy) (2.25.1)\n",
      "Requirement already satisfied: urllib3<1.27,>=1.21.1 in c:\\users\\louisa\\anaconda3\\envs\\metis\\lib\\site-packages (from requests>=2.20.0->sodapy) (1.26.5)\n",
      "Requirement already satisfied: certifi>=2017.4.17 in c:\\users\\louisa\\anaconda3\\envs\\metis\\lib\\site-packages (from requests>=2.20.0->sodapy) (2021.5.30)\n",
      "Requirement already satisfied: chardet<5,>=3.0.2 in c:\\users\\louisa\\anaconda3\\envs\\metis\\lib\\site-packages (from requests>=2.20.0->sodapy) (4.0.0)\n",
      "Requirement already satisfied: idna<3,>=2.5 in c:\\users\\louisa\\anaconda3\\envs\\metis\\lib\\site-packages (from requests>=2.20.0->sodapy) (2.10)\n",
      "Installing collected packages: sodapy\n",
      "Successfully installed sodapy-2.1.0\n"
     ]
    }
   ],
   "source": [
    "!pip install sodapy"
   ]
  },
  {
   "cell_type": "code",
   "execution_count": null,
   "id": "3af77fc7-2b5d-4561-a288-aa5d1c47b05b",
   "metadata": {},
   "outputs": [],
   "source": []
  }
 ],
 "metadata": {
  "kernelspec": {
   "display_name": "Python [conda env:metis]",
   "language": "python",
   "name": "conda-env-metis-py"
  },
  "language_info": {
   "codemirror_mode": {
    "name": "ipython",
    "version": 3
   },
   "file_extension": ".py",
   "mimetype": "text/x-python",
   "name": "python",
   "nbconvert_exporter": "python",
   "pygments_lexer": "ipython3",
   "version": "3.9.7"
  }
 },
 "nbformat": 4,
 "nbformat_minor": 5
}
